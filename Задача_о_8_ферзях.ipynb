{
  "nbformat": 4,
  "nbformat_minor": 0,
  "metadata": {
    "colab": {
      "name": "Задача_о_8_ферзях.ipynb",
      "provenance": []
    },
    "kernelspec": {
      "name": "python3",
      "display_name": "Python 3"
    },
    "language_info": {
      "name": "python"
    }
  },
  "cells": [
    {
      "cell_type": "markdown",
      "source": [
        "Задача о 8 ферзях"
      ],
      "metadata": {
        "id": "O5XULN3q9d-H"
      }
    },
    {
      "cell_type": "code",
      "execution_count": null,
      "metadata": {
        "colab": {
          "base_uri": "https://localhost:8080/"
        },
        "id": "LNpbfr746Nqm",
        "outputId": "99b689c0-7b3d-4843-caaf-3743ca2ab151"
      },
      "outputs": [
        {
          "output_type": "stream",
          "name": "stdout",
          "text": [
            "1 2\n",
            "2 3\n",
            "3 4 \n",
            "4 5\n",
            "5 6\n",
            "6 7\n",
            "7 1\n",
            "1 8\n",
            "YES\n"
          ]
        }
      ],
      "source": [
        "n = 8\n",
        "x = [] #\n",
        "y = [] # создаем два пустых списка\n",
        "# заполнение списков с помощью цикла for\n",
        "for i in range(n):\n",
        "    new_x, new_y = [int(s) for s in input().split()]\n",
        "    x.append(new_x)\n",
        "    y.append(new_y)\n",
        "correct = True\n",
        "# если при проверке условия, окажется, что ферзи бьют друг друга, то зна-чение флага correct будет изменено с true на false \n",
        "for i in range(n):\n",
        "    for j in range(i + 1, n):\n",
        "        if x[i] == x[j] or y[i] == y[j] or abs(x[i] - x[j]) == abs(y[i] - y[j]):\n",
        "            correct = False\n",
        "# вывод ответа\n",
        "if correct:\n",
        "    print('NO')\n",
        "else:\n",
        "    print('YES')\n"
      ]
    }
  ]
}