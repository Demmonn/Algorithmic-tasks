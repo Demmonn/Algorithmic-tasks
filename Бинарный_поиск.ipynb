{
  "nbformat": 4,
  "nbformat_minor": 0,
  "metadata": {
    "colab": {
      "name": "Бинарный_поиск.ipynb",
      "provenance": []
    },
    "kernelspec": {
      "name": "python3",
      "display_name": "Python 3"
    },
    "language_info": {
      "name": "python"
    }
  },
  "cells": [
    {
      "cell_type": "code",
      "execution_count": 16,
      "metadata": {
        "id": "42B865e6G6S3"
      },
      "outputs": [],
      "source": [
        "# Рекурсивной реализации бинарного поиска\n",
        "def binary_search_recursive(array, element, start, end): \n",
        "  # Выходим из рекурсии, если start элемент выше end\n",
        "  if start > end: \n",
        "    return -1 \n",
        "  #находим средний элемент, если искомый элемент равен середине,\n",
        "  #то выводим его\n",
        "  mid = (start + end) // 2 \n",
        "  if element == array[mid]: \n",
        "   return mid \n",
        "  #Если нет, мы проверяем, больше ли элемент или меньше среднего\n",
        "  if element < array[mid]: \n",
        "   # Поиск в левой половине\n",
        "   return binary_search_recursive(array, element, start, mid-1) \n",
        "  else: \n",
        "    # Поиск в правой половине\n",
        "    return binary_search_recursive(array, element, mid+1, end) "
      ]
    },
    {
      "cell_type": "code",
      "source": [
        "element = 5 \n",
        "array = [1, 3, 5, 7, 9, 11, 13, 15, 17, 19, 21] \n",
        " \n",
        "print(\"Searching for {}\".format(element)) \n",
        "print(\"Index of {}: {}\".format(element, binary_search_recursive(array, element, 0, len(array)))) "
      ],
      "metadata": {
        "colab": {
          "base_uri": "https://localhost:8080/"
        },
        "id": "AQCPQD2yIuEg",
        "outputId": "6009d5fc-893a-4ca6-a96a-367386e0bb64"
      },
      "execution_count": 19,
      "outputs": [
        {
          "output_type": "stream",
          "name": "stdout",
          "text": [
            "Searching for 5\n",
            "Index of 5: 2\n"
          ]
        }
      ]
    }
  ]
}