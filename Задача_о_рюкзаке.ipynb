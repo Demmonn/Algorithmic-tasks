{
  "nbformat": 4,
  "nbformat_minor": 0,
  "metadata": {
    "colab": {
      "name": "Задача_о_рюкзаке.ipynb",
      "provenance": []
    },
    "kernelspec": {
      "name": "python3",
      "display_name": "Python 3"
    },
    "language_info": {
      "name": "python"
    }
  },
  "cells": [
    {
      "cell_type": "code",
      "execution_count": 1,
      "metadata": {
        "colab": {
          "base_uri": "https://localhost:8080/"
        },
        "id": "L6r2fnGSdxVA",
        "outputId": "8e55aa36-dfd3-4429-ff7e-ef4cc876bf5c"
      },
      "outputs": [
        {
          "output_type": "stream",
          "name": "stdout",
          "text": [
            "280\n"
          ]
        }
      ],
      "source": [
        "# Возвращает максимальную сумму вещей, которые можно положить в рюкзак\n",
        "def knapSack(W, wt, v, n):\n",
        "    if n == 0 or W == 0 :\n",
        "        return 0\n",
        "    # Если вес n-го предмета больше вместимости ранца W,\n",
        "    # то этот пункт не может быть включен в оптимальное решение\n",
        "    if (wt[n-1] > W):\n",
        "        return knapSack(W, wt, v, n-1)\n",
        "    # Включить элемент в рюкзак v и повторять для\n",
        "    # элементов n-1 с уменьшенной емкостью `W-wt`\n",
        "    else:\n",
        "        return max(v[n-1] + knapSack(W-wt[n-1], wt, v, n-1),\n",
        "                   knapSack(W, wt, v, n-1))\n",
        "v = [60, 80, 100, 120, 140]\n",
        "wt = [5, 10, 15, 20, 25]\n",
        "W = 40\n",
        "n = len(v)\n",
        "print (knapSack(W, wt, v, n))"
      ]
    }
  ]
}