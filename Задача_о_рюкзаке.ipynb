{
  "nbformat": 4,
  "nbformat_minor": 0,
  "metadata": {
    "colab": {
      "name": "Задача_о_рюкзаке.ipynb",
      "provenance": []
    },
    "kernelspec": {
      "name": "python3",
      "display_name": "Python 3"
    },
    "language_info": {
      "name": "python"
    }
  },
  "cells": [
    {
      "cell_type": "code",
      "execution_count": 1,
      "metadata": {
        "id": "L6r2fnGSdxVA",
        "outputId": "4230ceba-e190-463b-86c3-ea8edd5e2637",
        "colab": {
          "base_uri": "https://localhost:8080/"
        }
      },
      "outputs": [
        {
          "output_type": "stream",
          "name": "stdout",
          "text": [
            "[Item(value=3, weight=2), Item(value=3, weight=4)]\n",
            "CacheInfo(hits=9, misses=21, maxsize=None, currsize=21)\n"
          ]
        }
      ],
      "source": [
        "from collections import namedtuple\n",
        "from functools import lru_cache\n",
        "Item = namedtuple('Item', 'value weight')\n",
        "items = Item(4, 5), Item(3, 4), Item(3, 2), Item(2, 1)\n",
        "capacity = 6  # max weight we can put into the knapsack\n",
        "@lru_cache(maxsize=None)\n",
        "def best_value(nitems, weight_limit):\n",
        "    if nitems == 0:  # no items\n",
        "        return 0  # zero value\n",
        "    elif items[nitems - 1].weight > weight_limit:\n",
        "        # new item is heavier than the current weight limit\n",
        "        return best_value(nitems - 1, weight_limit)  # don't include new item\n",
        "    else:\n",
        "        return max(  # max of with and without the new item\n",
        "            best_value(nitems - 1, weight_limit),  # without\n",
        "            best_value(nitems - 1, weight_limit - items[nitems - 1].weight)\n",
        "            + items[nitems - 1].value)  # with the new item\n",
        "result = []\n",
        "weight_limit = capacity\n",
        "for i in reversed(range(len(items))):\n",
        "    if best_value(i + 1, weight_limit) > best_value(i, weight_limit):\n",
        "        # better with the i-th item\n",
        "        result.append(items[i])  # include it in the result\n",
        "        weight_limit -= items[i].weight\n",
        "print(result)\n",
        "print(best_value.cache_info())\n"
      ]
    }
  ]
}