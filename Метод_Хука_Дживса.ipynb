{
  "nbformat": 4,
  "nbformat_minor": 0,
  "metadata": {
    "colab": {
      "name": "Метод_Хука_Дживса.ipynb",
      "provenance": []
    },
    "kernelspec": {
      "name": "python3",
      "display_name": "Python 3"
    },
    "language_info": {
      "name": "python"
    }
  },
  "cells": [
    {
      "cell_type": "code",
      "source": [
        "machineAcc = 0.000000001\n",
        "# Исследующий поиск\n",
        "def utilSearch(b, h, f):\n",
        "    bres = b[:]\n",
        "    fb = f(bres)\n",
        "    for i in range(0,len(bres)):\n",
        "        bn = bres\n",
        "        bn[i] = bn[i] + h[i]     \n",
        "        fc = f(bn)\n",
        "        if (fc + machineAcc<fb):\n",
        "            bres = bn\n",
        "            fb = fc\n",
        "        else:\n",
        "            bn[i] = bn[i] - 2*h[i]\n",
        "            fc = f(bn)\n",
        "            if (fc + machineAcc < fb):\n",
        "                bres = bn\n",
        "                fb = fc\n",
        "    return bres\n",
        "Path1 = []\n",
        "Path2 = []\n",
        "Path3 = []\n",
        "Path4 = []"
      ],
      "metadata": {
        "id": "X8FsMQjGJ_3D"
      },
      "execution_count": null,
      "outputs": []
    },
    {
      "cell_type": "code",
      "execution_count": null,
      "metadata": {
        "id": "FNCQRpWoft6O"
      },
      "outputs": [],
      "source": [
        "# Находит минимум многомерной функции\n",
        "def HJ(b1, h, e, f):\n",
        "    z = 0.1\n",
        "    runOuterLoop = True\n",
        "    while (runOuterLoop):\n",
        "        runOuterLoop = False\n",
        "        runInnerLoop = True\n",
        "        xk = b1 #step1\n",
        "        b2 = utilSearch(b1, h, f) #step2\n",
        "        Path1.append(b1)\n",
        "        Path2.append(b2)\n",
        "        Path3.append(xk)\n",
        "        while (runInnerLoop):\n",
        "            Path1.append(b1)\n",
        "            Path2.append(b2)\n",
        "            runInnerLoop = False\n",
        "            for i in range(len(b1)):#step3\n",
        "                xk[i] = b1[i] + 2*(b2[i]-b1[i])\n",
        "            Path3.append(xk)\n",
        "            x = utilSearch(xk, h, f) #step4\n",
        "            Path4.append(x)\n",
        "            b1 = b2 #step5\n",
        "            fx = f(x)\n",
        "            fb1 = f(b1)\n",
        "            if (fx+machineAcc<fb1): #step6\n",
        "                b2 = x\n",
        "                runInnerLoop = True #to step3\n",
        "            elif (fx-machineAcc>fb1): #step7\n",
        "                runOuterLoop = True #to step1\n",
        "                break\n",
        "            else:\n",
        "                s = 0 \n",
        "                for i in range(len(h)):\n",
        "                    s+=h[i]*h[i]\n",
        "                if (e*e + machineAcc > s): #step8\n",
        "                    break #to step10\n",
        "                else:\n",
        "                    for i in range(len(h)): #step9\n",
        "                        h[i] = h[i]* z \n",
        "                    runOuterLoop = True #to step1\n",
        "    return b1 #step10"
      ]
    }
  ]
}