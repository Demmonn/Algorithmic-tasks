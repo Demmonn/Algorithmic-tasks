{
  "nbformat": 4,
  "nbformat_minor": 0,
  "metadata": {
    "colab": {
      "name": "Транспортная_задача.ipynb",
      "provenance": []
    },
    "kernelspec": {
      "name": "python3",
      "display_name": "Python 3"
    },
    "language_info": {
      "name": "python"
    }
  },
  "cells": [
    {
      "cell_type": "code",
      "execution_count": 1,
      "metadata": {
        "id": "Jw_5LunbePX-"
      },
      "outputs": [],
      "source": [
        "import numpy as np\n",
        "from scipy.optimize import linprog\n",
        "import warnings\n",
        "warnings.filterwarnings('ignore')"
      ]
    },
    {
      "cell_type": "code",
      "source": [
        "# Запишем данные в массивы\n",
        "a = np.array([80, 60, 100])\n",
        "b = np.array([40, 60, 40, 50, 50])\n",
        "\n",
        "D = np.array([[6, 4, 3, 4, 2],\n",
        "              [3, 6, 4, 9, 2],\n",
        "              [3, 1, 2, 2, 6]])"
      ],
      "metadata": {
        "id": "0AiQc35YeSXG"
      },
      "execution_count": 2,
      "outputs": []
    },
    {
      "cell_type": "markdown",
      "source": [
        "Метод минимального эелемента\n"
      ],
      "metadata": {
        "id": "ahroT7GMebYM"
      }
    },
    {
      "cell_type": "code",
      "source": [
        "# Необходима функция нахождения индексов минимального элемента матрицы\n",
        "def ij(c_min):\n",
        "    c = np.inf\n",
        "    for i in range(c_min.shape[0]):\n",
        "        for j in range(c_min.shape[1]):\n",
        "            if (c_min[i, j] !=0) and (c_min[i, j]<c):\n",
        "                c = c_min[i, j]\n",
        "                i_, j_ = i, j\n",
        "    return i_, j_\n",
        "\n",
        "# Функция минимального элемента\n",
        "def M_min(a_, b_, c_, print_ = False):\n",
        "    a = np.copy(a_)\n",
        "    b = np.copy(b_)\n",
        "    c = np.copy(c_)\n",
        "    \n",
        "    # Проверяем условие замкнутости: если не замкнута - меняем соотвествующие векторы и матрицу трансп. расходов\n",
        "    if a.sum() > b.sum():\n",
        "        b = np.hstack((b, [a.sum() - b.sum()]))\n",
        "        c = np.hstack((c, np.zeros(len(a)).reshape(-1, 1)))\n",
        "    elif a.sum() < b.sum():\n",
        "        a = np.hstack((a, [b.sum() - a.sum()]))\n",
        "        c = np.vstack((c, np.zeros(len(b))))\n",
        "        \n",
        "    m = len(a)\n",
        "    n = len(b)\n",
        "    x = np.zeros((m, n), dtype=int) # создаем матрицу для x и заполняем нулями\n",
        "    funk = 0\n",
        "    while True:\n",
        "        c_min = np.zeros((m,n))\n",
        "        for i in range(m):\n",
        "            for j in range(n):\n",
        "                c_min[i, j] = (c[i, j]*min(a[i], b[j])) # составляем матрицу суммарных расходов\n",
        "        i, j = ij(c_min) # определяем индексы минимального элемента составленной матрицы суммарных расходов\n",
        "        x_ij = int(min(a[i], b[j]))\n",
        "        x[i, j] = x_ij # добавляем элемент x_ij в матрицу x\n",
        "        funk += int(c_min[i, j]) # добавляем x_ij в итоговую функцию\n",
        "        a[i] -= x_ij #\n",
        "        b[j] -= x_ij # обновляем векторы a и b\n",
        "        if print_:\n",
        "            print('c_min:')\n",
        "            print(c_min.astype(int))\n",
        "            print('a: ', a)\n",
        "            print('b: ', b)\n",
        "            print()\n",
        "        if len(c_min[c_min>0])==1: # повторяем до сходимости метода\n",
        "            break\n",
        "    return x, funk # возращаем матрицу x и целевую функцию"
      ],
      "metadata": {
        "id": "jr6aqj7eeWKb"
      },
      "execution_count": 3,
      "outputs": []
    },
    {
      "cell_type": "code",
      "source": [
        "x, funk = M_min(a, b, D)\n",
        "print('Метод минимального элемента: \\n', x)\n",
        "print('Целевая функция: ', funk)\n",
        "print()\n",
        "print('Дельта матрица для М - метода: \\n', delta(a, b, D, x))"
      ],
      "metadata": {
        "colab": {
          "base_uri": "https://localhost:8080/"
        },
        "id": "5Ke8gX8Qe98s",
        "outputId": "03503138-013f-4201-902d-94800212635f"
      },
      "execution_count": 7,
      "outputs": [
        {
          "output_type": "stream",
          "name": "stdout",
          "text": [
            "Метод минимального элемента: \n",
            " [[ 0  0  0 30 50]\n",
            " [40  0  0 20  0]\n",
            " [ 0 60 40  0  0]]\n",
            "Целевая функция:  660\n",
            "\n",
            "Дельта матрица для М - метода: \n",
            " [[-3. -3. -1.  0.  0.]\n",
            " [ 5.  0.  3.  0.  5.]\n",
            " [ 0.  0.  0.  2. -4.]]\n"
          ]
        }
      ]
    },
    {
      "cell_type": "markdown",
      "source": [
        "Метод северо-западного угла"
      ],
      "metadata": {
        "id": "kx_yQxjEeoHz"
      }
    },
    {
      "cell_type": "code",
      "source": [
        "def sev_zap(a_, b_, c_):\n",
        "    a = np.copy(a_)\n",
        "    b = np.copy(b_)\n",
        "    c = np.copy(c_)\n",
        "    \n",
        "    # Проверяем условие замкнутости:\n",
        "    if a.sum() > b.sum():\n",
        "        b = np.hstack((b, [a.sum() - b.sum()]))\n",
        "        c = np.hstack((c, np.zeros(len(a)).reshape(-1, 1)))\n",
        "    elif a.sum() < b.sum():\n",
        "        a = np.hstack((a, [b.sum() - a.sum()]))\n",
        "        c = np.vstack((c, np.zeros(len(b))))\n",
        "        \n",
        "    m = len(a)\n",
        "    n = len(b)\n",
        "    i = 0\n",
        "    j = 0\n",
        "    funk = 0\n",
        "    x = np.zeros((m, n), dtype=int)\n",
        "    while (i<m) and (j<n): # повторяем цикл до сходимости метода\n",
        "        x_ij = min(a[i], b[j]) # проверяем минимальность a_i и b_j\n",
        "        funk += c[i, j]*min(a[i], b[j]) # записываем в итоговую функцию элемент трат\n",
        "        a[i] -= x_ij #\n",
        "        b[j] -= x_ij # обновляем векторы a и b\n",
        "        x[i, j] = x_ij # добавляем элемент x_ij в матрицу x\n",
        "    \n",
        "        if a[i]>b[j]: # делаем сдвиги при выполнении условий\n",
        "            j += 1\n",
        "        elif a[i]<b[j]:\n",
        "            i += 1\n",
        "        else:\n",
        "            i += 1\n",
        "            j += 1\n",
        "    return x, funk # возращаем матрицу x и целевую функцию"
      ],
      "metadata": {
        "id": "2HKCekMweo1j"
      },
      "execution_count": 4,
      "outputs": []
    },
    {
      "cell_type": "code",
      "source": [
        "x1, funk1 = sev_zap(a, b, D)\n",
        "print('Метод северо-западного угла: \\n', x1)\n",
        "print('Целевая функция: ', funk1)\n",
        "print()\n",
        "print('Дельта матрица для метода северо-западного угла: \\n', delta(a, b, D, x1))"
      ],
      "metadata": {
        "colab": {
          "base_uri": "https://localhost:8080/"
        },
        "id": "ckcJpnLyfAr7",
        "outputId": "86b84199-e2ec-4fd3-a602-5bc9ff1aec65"
      },
      "execution_count": 8,
      "outputs": [
        {
          "output_type": "stream",
          "name": "stdout",
          "text": [
            "Метод северо-западного угла: \n",
            " [[40 40  0  0  0]\n",
            " [ 0 20 40  0  0]\n",
            " [ 0  0  0 50 50]]\n",
            "Целевая функция:  1080\n",
            "\n",
            "Дельта матрица для метода северо-западного угла: \n",
            " [[ 0.  0. -1. -2.  4.]\n",
            " [ 5.  0.  0. -5.  6.]\n",
            " [ 3.  3.  0.  0.  0.]]\n"
          ]
        }
      ]
    },
    {
      "cell_type": "markdown",
      "source": [
        "Метод потенциалов"
      ],
      "metadata": {
        "id": "qidokQMkeuQD"
      }
    },
    {
      "cell_type": "code",
      "source": [
        "# Для метода потенциалов потребуется матрица дельт\n",
        "# На вход она получает x - матрицу одного из опорных методов\n",
        "def delta(a, b, c, x): \n",
        "        # Проверяем условие замкнутости:\n",
        "    if a.sum() > b.sum():\n",
        "        b = np.hstack((b, [a.sum() - b.sum()]))\n",
        "        c = np.hstack((c, np.zeros(len(a)).reshape(-1, 1)))\n",
        "    elif a.sum() < b.sum():\n",
        "        a = np.hstack((a, [b.sum() - a.sum()]))\n",
        "        c = np.vstack((c, np.zeros(len(b))))\n",
        "    \n",
        "    m = len(a)\n",
        "    n = len(b)\n",
        "    \n",
        "    u = np.zeros(m)\n",
        "    v = np.zeros(n)\n",
        "\n",
        "    for i in range(m):\n",
        "        for j in range(n):\n",
        "            if x[i, j] != 0: # если элемент матрицы x не равен 0, расчитываем для данных индексов векторы u и v\n",
        "                if v[j] != 0:\n",
        "                    u[i] = c[i, j]-v[j]\n",
        "                else:\n",
        "                    v[j] = c[i, j]-u[i]\n",
        "\n",
        "    delta = np.zeros((m, n))\n",
        "    for i in range(m):\n",
        "        for j in range(n):\n",
        "            delta[i, j] = u[i] + v[j] - c[i, j] # расчитываем элемент дельта матрицы\n",
        "    return delta"
      ],
      "metadata": {
        "id": "YAua7IhAexSz"
      },
      "execution_count": 5,
      "outputs": []
    },
    {
      "cell_type": "code",
      "source": [
        "# Функция возвращает матрицу системы ограничений\n",
        "def prepare(a, b):\n",
        "    m = len(a)\n",
        "    n = len(b)\n",
        "    h = np.diag(np.ones(n))\n",
        "    v = np.zeros((m, n))\n",
        "    v[0] = 1\n",
        "    for i in range(1, m):\n",
        "        h = np.hstack((h, np.diag(np.ones(n))))\n",
        "        k = np.zeros((m, n))\n",
        "        k[i]=1\n",
        "        v = np.hstack((v, k))\n",
        "    return np.vstack((h, v)).astype(int), np.hstack((b,a))\n",
        "\n",
        "# Метод потенциалов\n",
        "def potenz(a_, b_, c_):\n",
        "    a = np.copy(a_)\n",
        "    b = np.copy(b_)\n",
        "    c = np.copy(c_)\n",
        "    # Проверяем условие замкнутости:\n",
        "    if a.sum() > b.sum():\n",
        "        b = np.hstack((b, [a.sum() - b.sum()]))\n",
        "        c = np.hstack((c, np.zeros(len(a)).reshape(-1, 1)))\n",
        "    elif a.sum() < b.sum():\n",
        "        a = np.hstack((a, [b.sum() - a.sum()]))\n",
        "        c = np.vstack((c, np.zeros(len(b))))\n",
        "        \n",
        "    m = len(a)\n",
        "    n = len(b)\n",
        "    A_eq, b_eq = prepare(a, b)\n",
        "    res = linprog(c.reshape(1, -1), A_eq=A_eq, b_eq=b_eq, bounds=(0, None), method='simplex')\n",
        "    return res.x.astype(int).reshape(m, n), res.fun.astype(int) # возращаем матрицу x и целевую функцию"
      ],
      "metadata": {
        "id": "0isUxv5Se0dr"
      },
      "execution_count": 6,
      "outputs": []
    },
    {
      "cell_type": "code",
      "source": [
        "x2, funk2 = potenz(a, b, D)\n",
        "print('Метод потенциалов: \\n', x2)\n",
        "print('Целевая функция: ', funk2)\n",
        "print()\n",
        "print('Дельта матрица для метода потенциалов: \\n', delta(a, b, D, x2))"
      ],
      "metadata": {
        "colab": {
          "base_uri": "https://localhost:8080/"
        },
        "id": "p2QV0p0we35c",
        "outputId": "8926e3d9-4d32-4cc9-f7bf-bb1fc984b49d"
      },
      "execution_count": 9,
      "outputs": [
        {
          "output_type": "stream",
          "name": "stdout",
          "text": [
            "Метод потенциалов: \n",
            " [[ 0  0 40 10 30]\n",
            " [40  0  0  0 20]\n",
            " [ 0 60  0 40  0]]\n",
            "Целевая функция:  520\n",
            "\n",
            "Дельта матрица для метода потенциалов: \n",
            " [[-3. -3.  0.  0.  0.]\n",
            " [ 0. -5. -1. -5.  0.]\n",
            " [-2. -2. -1.  0. -6.]]\n"
          ]
        }
      ]
    }
  ]
}